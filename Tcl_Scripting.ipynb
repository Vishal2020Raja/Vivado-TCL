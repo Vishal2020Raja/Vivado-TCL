{
 "cells": [
  {
   "cell_type": "code",
   "execution_count": 1,
   "id": "fc89e174-4bd3-4334-9423-b2e9011005e5",
   "metadata": {},
   "outputs": [],
   "source": [
    "import os\n",
    "import shutil\n",
    "import csv"
   ]
  },
  {
   "cell_type": "code",
   "execution_count": 2,
   "id": "725acb52-9ad4-4bd8-823b-0fd8d7cdc6e5",
   "metadata": {},
   "outputs": [
    {
     "data": {
      "text/plain": [
       "['mux.v', 'HA.v', 'mux2.v']"
      ]
     },
     "execution_count": 2,
     "metadata": {},
     "output_type": "execute_result"
    }
   ],
   "source": [
    "impl_dir = os.listdir(\"Files/\")\n",
    "impl_dir"
   ]
  },
  {
   "cell_type": "code",
   "execution_count": 3,
   "id": "3bfbc79b-cde0-4eb1-879f-aafac4fd8995",
   "metadata": {},
   "outputs": [
    {
     "name": "stdout",
     "output_type": "stream",
     "text": [
      "project created mux.v\n",
      "syn/impl created mux.v\n",
      "Done  mux.v\n",
      "project created HA.v\n",
      "syn/impl created HA.v\n",
      "Done  HA.v\n",
      "project created mux2.v\n",
      "syn/impl created mux2.v\n",
      "Done  mux2.v\n"
     ]
    }
   ],
   "source": [
    "import os\n",
    "import shutil\n",
    "import csv\n",
    "\n",
    "DatapathDelay = []\n",
    "logic_delay=[]\n",
    "routing_delay=[]\n",
    "file_name=[]\n",
    "DynamicPower = []\n",
    "static_power=[]\n",
    "signal_power=[]\n",
    "logic_power=[]\n",
    "i_o_power=[]\n",
    "total_power=[]\n",
    "f7_muxes=[]\n",
    "lut_as_memory=[]\n",
    "lut_as_logic=[]\n",
    "slice_lut=[]\n",
    "lut1=[]\n",
    "lut2=[]\n",
    "lut3=[]\n",
    "lut4=[]\n",
    "lut5=[]\n",
    "lut6=[]\n",
    "lut7=[]\n",
    "\n",
    "impl_dir = os.listdir(\"Files/\")\n",
    "\n",
    "for item in impl_dir:\n",
    "\n",
    "    os.system(f\"mkdir Reports/{item[:-2]}\")\n",
    "    os.system(f'vivado -mode batch -source tcl_add.tcl -tclargs {\"Files/\" + item}')\n",
    "    print(\"project created\", item)\n",
    "    os.system(f\"vivado -mode batch -source tcl_run.tcl -tclargs {item[:-2]}\")\n",
    "    print(\"syn/impl created\", item)\n",
    "\n",
    "\n",
    "    print(\"Done \", item)\n"
   ]
  },
  {
   "cell_type": "code",
   "execution_count": null,
   "id": "37362d6f",
   "metadata": {},
   "outputs": [],
   "source": [
    "for item in impl_dir:\n",
    "    \n",
    "    file_name.append(item)\n",
    "    try:\n",
    "        with open(\"timing.txt\") as f:\n",
    "            lines = f.read()\n",
    "            timing = lines.split(\"\\n\")\n",
    "            timing_info = [line for line in timing if \"Data Path Delay\" in line]\n",
    "            dpd = float(timing_info[0].split()[3][:-2])\n",
    "            DatapathDelay.append(dpd)\n",
    "            timing_info = [line for line in timing if \"Data Path Delay\" in line]\n",
    "            dpd = float(timing_info[0].split()[5][:-2])\n",
    "            logic_delay.append(dpd)\n",
    "            timing_info = [line for line in timing if \"Data Path Delay\" in line]\n",
    "            dpd = float(timing_info[0].split()[8][:-2])\n",
    "            routing_delay.append(dpd)\n",
    "\n",
    "\n",
    "    except FileNotFoundError:\n",
    "            DatapathDelay.append(\"NA\")\n",
    "            logic_delay.append(\"NA\")\n",
    "            routing_delay.append(\"NA\")\n",
    "    except ValueError:\n",
    "            DatapathDelay.append(\"NA\")\n",
    "            logic_delay.append(\"NA\")\n",
    "            routing_delay.append(\"NA\")"
   ]
  },
  {
   "attachments": {},
   "cell_type": "markdown",
   "id": "dbfe4c67",
   "metadata": {},
   "source": []
  },
  {
   "cell_type": "code",
   "execution_count": 7,
   "id": "e046c534",
   "metadata": {},
   "outputs": [
    {
     "name": "stdout",
     "output_type": "stream",
     "text": [
      "['mux.v', 'HA.v', 'mux2.v']\n",
      "[5.614, 6.066, 5.614]\n",
      "[3.377, 3.553, 3.377]\n",
      "[2.237, 2.513, 2.237]\n"
     ]
    }
   ],
   "source": [
    "print(impl_dir)\n",
    "print(DatapathDelay)\n",
    "print(logic_delay)\n",
    "print(routing_delay)"
   ]
  }
 ],
 "metadata": {
  "kernelspec": {
   "display_name": "Python 3",
   "language": "python",
   "name": "python3"
  },
  "language_info": {
   "codemirror_mode": {
    "name": "ipython",
    "version": 3
   },
   "file_extension": ".py",
   "mimetype": "text/x-python",
   "name": "python",
   "nbconvert_exporter": "python",
   "pygments_lexer": "ipython3",
   "version": "3.6.8"
  }
 },
 "nbformat": 4,
 "nbformat_minor": 5
}
